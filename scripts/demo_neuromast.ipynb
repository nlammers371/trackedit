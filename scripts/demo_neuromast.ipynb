{
 "cells": [
  {
   "cell_type": "code",
   "execution_count": null,
   "metadata": {},
   "outputs": [],
   "source": [
    "import napari\n",
    "from pathlib import Path\n",
    "from trackedit.motile_overwrites import *\n",
    "from trackedit.TrackEdit_functions import *\n",
    "from trackedit.DatabaseHandler import DatabaseHandler\n",
    "from motile_tracker.data_model.actions import AddEdges, DeleteNodes, DeleteEdges, AddNodes\n",
    "\n",
    "\n",
    "#**********INPUTS*********\n",
    "working_directory = Path('/home/teun.huijben/Documents/data/Akila/20241003/neuromast4_t851/adjusted/')\n",
    "db_filename_old = 'data.db'\n",
    "data_shape_full = [851,73,1024,1024]      #T,(Z),Y,X       (851,73,1024,1024)\n",
    "scale = (4,1,1)\n",
    "layer_name = 'ultrack'\n",
    "allow_overwrite = True      #overwrite existing database/changelog\n",
    "#*************************\n",
    "\n",
    "DB_handler = DatabaseHandler(\n",
    "            db_filename_old = db_filename_old,\n",
    "            working_directory = working_directory,\n",
    "            data_shape_full = data_shape_full,\n",
    "            z_scale = scale[0],\n",
    "            name = 'ultrack',\n",
    "            allow_overwrite = allow_overwrite)\n",
    "\n",
    "#overwrite some motile functions\n",
    "DeleteNodes._apply = create_db_delete_nodes(DB_handler)\n",
    "DeleteEdges._apply = create_db_delete_edges(DB_handler)\n",
    "AddEdges._apply = create_db_add_edges(DB_handler)\n",
    "AddNodes._apply = create_db_add_nodes(DB_handler)\n",
    "TracksViewer._refresh = create_tracks_viewer_and_segments_refresh(layer_name=layer_name)\n",
    "\n",
    "\n",
    "#open napari with TrackEdit\n",
    "viewer = napari.Viewer()\n",
    "trackeditclass = TrackEditClass(viewer, databasehandler = DB_handler)\n",
    "viewer.dims.ndisplay = 3    #3D view"
   ]
  },
  {
   "cell_type": "markdown",
   "metadata": {},
   "source": [
    "# Red flags"
   ]
  },
  {
   "cell_type": "code",
   "execution_count": null,
   "metadata": {},
   "outputs": [],
   "source": [
    "DB_handler.df"
   ]
  },
  {
   "cell_type": "code",
   "execution_count": null,
   "metadata": {},
   "outputs": [],
   "source": [
    "import numpy as np\n",
    "# def find_red_flags_in_df(df: pd.DataFrame) -> pd.DataFrame:\n",
    "#     \"\"\"\n",
    "#     Identify tracking red flags, i.e. when cell tracks appear ('added') or disappear ('removed')\n",
    "#     from one timepoint to the next, and include the corresponding 'id' field from the original dataframe.\n",
    "    \n",
    "#     A track is flagged as 'added' if it is present at the current timepoint but not in the previous one,\n",
    "#     and flagged as 'removed' if it is present at the current timepoint but not in the next one.\n",
    "    \n",
    "#     Parameters\n",
    "#     ----------\n",
    "#     df : pd.DataFrame\n",
    "#         DataFrame containing at least 't' (timepoint), 'track_id', and 'id' columns.\n",
    "    \n",
    "#     Returns\n",
    "#     -------\n",
    "#     pd.DataFrame\n",
    "#         DataFrame with columns: 'Timepoint', 'track_id', 'event', and 'id'.\n",
    "#     \"\"\"\n",
    "#     # Ensure the timepoints are continuous even if some are missing\n",
    "#     time_range = range(df['t'].min(), df['t'].max() + 1)\n",
    "    \n",
    "#     # Group by timepoint and create a Series mapping each time to its set of track_ids.\n",
    "#     track_sets = df.groupby('t')['track_id'].agg(set).reindex(time_range, fill_value=set())\n",
    "    \n",
    "#     # Precompute a mapping from (timepoint, track_id) to the corresponding \"id\" field.\n",
    "#     # Assumes that there is only one row per (t, track_id).\n",
    "#     mapping = df.set_index(['t', 'track_id'])['id'].to_dict()\n",
    "    \n",
    "#     events = []\n",
    "#     timepoints = list(time_range)\n",
    "#     for i, t in enumerate(timepoints):\n",
    "#         current = track_sets[t]\n",
    "#         # For the first timepoint, treat the previous set as the current set.\n",
    "#         prev = track_sets[timepoints[i - 1]] if i > 0 else current\n",
    "#         # For the last timepoint, treat the next set as the current set.\n",
    "#         nxt = track_sets[timepoints[i + 1]] if i < len(timepoints) - 1 else current\n",
    "        \n",
    "#         # Tracks added at time t (present now but not in the previous timepoint)\n",
    "#         for track in current - prev:\n",
    "#             events.append({\n",
    "#                 't': t,\n",
    "#                 'track_id': track,\n",
    "#                 'id': mapping.get((t, track)),\n",
    "#                 'event': 'added',\n",
    "#             })\n",
    "#         # Tracks removed at time t (present now but not in the next timepoint)\n",
    "#         for track in current - nxt:\n",
    "#             events.append({\n",
    "#                 't': t,\n",
    "#                 'track_id': track,\n",
    "#                 'id': mapping.get((t, track)),\n",
    "#                 'event': 'removed',\n",
    "#             })\n",
    "    \n",
    "#     return pd.DataFrame(events)\n",
    "\n",
    "# df = DB_handler.db_to_df(entire_database=True)\n",
    "red_flags = DB_handler.find_all_red_flags()\n",
    "display(red_flags)\n",
    "print(red_flags.shape)"
   ]
  },
  {
   "cell_type": "code",
   "execution_count": null,
   "metadata": {},
   "outputs": [],
   "source": [
    "print(len(red_flags))\n",
    "print(' ')\n",
    "print(red_flags.loc[[0]])\n",
    "\n",
    "df_rf = red_flags.loc[[0]]\n",
    "df_rf.iloc[0].t"
   ]
  },
  {
   "cell_type": "markdown",
   "metadata": {},
   "source": [
    "ToDo: \n",
    "- want red flags of entire dataset!"
   ]
  }
 ],
 "metadata": {
  "kernelspec": {
   "display_name": "motile",
   "language": "python",
   "name": "python3"
  },
  "language_info": {
   "codemirror_mode": {
    "name": "ipython",
    "version": 3
   },
   "file_extension": ".py",
   "mimetype": "text/x-python",
   "name": "python",
   "nbconvert_exporter": "python",
   "pygments_lexer": "ipython3",
   "version": "3.10.16"
  }
 },
 "nbformat": 4,
 "nbformat_minor": 2
}
