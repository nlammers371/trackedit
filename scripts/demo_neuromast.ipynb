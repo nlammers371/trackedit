{
 "cells": [
  {
   "cell_type": "code",
   "execution_count": 1,
   "metadata": {},
   "outputs": [],
   "source": [
    "# import sys\n",
    "# sys.path.append('home/Documents/code/github/motile_tracker/') #maybe needed for debugging??\n",
    "\n",
    "\n",
    "import numpy as np\n",
    "import pandas as pd\n",
    "import dask.array as da\n",
    "import matplotlib.pyplot as plt\n",
    "import napari\n",
    "import shutil\n",
    "\n",
    "from pathlib import Path\n",
    "# from typing import Dict, List, Tuple, Optional, Iterable,TypeAlias, Mapping, Sequence\n",
    "# from pyinstrument import Profiler\n",
    "\n",
    "from motile_tracker.data_model.actions import AddEdges, DeleteNodes, DeleteEdges, AddNodes\n",
    "\n",
    "from functions.DatabaseArray import DatabaseArray\n",
    "# from functions.get_value_by_field import get_value_by_field\n",
    "from functions.TrackEdit_functions import *\n",
    "from functions.database_handler import *\n",
    "from functions.motile_overwrites import *"
   ]
  },
  {
   "cell_type": "markdown",
   "metadata": {},
   "source": [
    "Make segments+graph"
   ]
  },
  {
   "cell_type": "code",
   "execution_count": 2,
   "metadata": {},
   "outputs": [
    {
     "name": "stdout",
     "output_type": "stream",
     "text": [
      "shapes full/chunk/length [851, 73, 1024, 1024] [100, 73, 1024, 1024] 100 8\n",
      "Database copied to: /home/teun.huijben/Documents/data/Akila/20241003/neuromast4_t851/adjusted/data_v1.db\n",
      "old database: data.db\n",
      "new database: data_v1.db\n",
      "new logfile: data_v1_changelog.txt\n",
      "\n",
      "segments [100, 73, 1024, 1024]\n"
     ]
    }
   ],
   "source": [
    "#**********INPUTS*********\n",
    "working_directory = Path('/home/teun.huijben/Documents/data/Akila/20241003/neuromast4_t851/adjusted/')\n",
    "db_filename_old = 'data.db'\n",
    "time_window = (0,100)\n",
    "data_shape_full = [851,73,1024,1024]      #T,(Z),Y,X       (851,73,1024,1024)\n",
    "scale = (4,1,1)\n",
    "layer_name = 'ultrack'\n",
    "allow_overwrite = True      #overwrite existing database/changelog\n",
    "#*************************\n",
    "\n",
    "#handle filenames of db/changelog\n",
    "\n",
    "DB_handler = database_handler(\n",
    "                db_filename_old= db_filename_old,\n",
    "                working_directory= working_directory,\n",
    "                data_shape_full= data_shape_full,\n",
    "                z_scale = scale[0],\n",
    "                allow_overwrite= allow_overwrite)\n",
    "\n",
    "#db > tracks > nxgraph\n",
    "nxgraph = DB_handler.nxgraph\n",
    "#db > segments\n",
    "segments = DB_handler.segments\n",
    "\n",
    "print('\\nsegments',segments.shape)\n",
    "# print('type(segments)',type(segments))"
   ]
  },
  {
   "cell_type": "markdown",
   "metadata": {},
   "source": [
    "Overwrite motile functions"
   ]
  },
  {
   "cell_type": "code",
   "execution_count": 3,
   "metadata": {},
   "outputs": [],
   "source": [
    "DeleteNodes._apply = create_db_delete_nodes(DB_handler)\n",
    "DeleteEdges._apply = create_db_delete_edges(DB_handler)\n",
    "AddEdges._apply = create_db_add_edges(DB_handler)\n",
    "AddNodes._apply = create_db_add_nodes(DB_handler)\n",
    "TracksViewer._refresh = create_tracks_viewer_and_segments_refresh(layer_name=layer_name)"
   ]
  },
  {
   "cell_type": "markdown",
   "metadata": {},
   "source": [
    "TrackEdit"
   ]
  },
  {
   "cell_type": "code",
   "execution_count": 4,
   "metadata": {},
   "outputs": [
    {
     "name": "stdout",
     "output_type": "stream",
     "text": [
      "Making new tracking view controller\n"
     ]
    }
   ],
   "source": [
    "viewer = napari.Viewer()\n",
    "\n",
    "add_motile_widgets(viewer)\n",
    "\n",
    "add_tracks(viewer, \n",
    "           nxgraph = nxgraph, \n",
    "           segmentation=segments, \n",
    "           name = layer_name)\n",
    "\n",
    "viewer.dims.ndisplay = 3    #3D view\n",
    "viewer.layers.selection.active = viewer.layers['ultrack_seg']   #select segmentation layer"
   ]
  },
  {
   "cell_type": "code",
   "execution_count": null,
   "metadata": {},
   "outputs": [],
   "source": [
    "\n",
    "\n",
    "\n",
    "\n",
    "\n"
   ]
  },
  {
   "cell_type": "markdown",
   "metadata": {},
   "source": [
    "change time chunk"
   ]
  },
  {
   "cell_type": "code",
   "execution_count": 7,
   "metadata": {},
   "outputs": [],
   "source": [
    "\n",
    "time_window = (0,10)\n",
    "\n",
    "data_shape[0] = time_window[1]-time_window[0]    #T,(Z),Y,X     \n",
    "\n",
    "# DB.handler ...\n",
    "\n",
    "add_tracks(viewer, \n",
    "           nxgraph = DB_handler.nxgraph, \n",
    "           segmentation=DB_handler.segments, \n",
    "           name = layer_name)\n",
    "\n",
    "\n",
    "\n",
    "\n"
   ]
  },
  {
   "cell_type": "code",
   "execution_count": 9,
   "metadata": {},
   "outputs": [
    {
     "name": "stdout",
     "output_type": "stream",
     "text": [
      "<motile_tracker.data_views.views_coordinator.tracks_list.TracksList object at 0x75beb0770ca0>\n"
     ]
    }
   ],
   "source": [
    "tv = TracksViewer.get_instance(viewer)\n",
    "tv.tracks_list\n",
    "print(tv.tracks_list)"
   ]
  },
  {
   "cell_type": "code",
   "execution_count": null,
   "metadata": {},
   "outputs": [],
   "source": [
    "# CHECK THE NUMBER OF TRACKS IN TRACKS LIST "
   ]
  },
  {
   "cell_type": "code",
   "execution_count": null,
   "metadata": {},
   "outputs": [],
   "source": []
  },
  {
   "cell_type": "markdown",
   "metadata": {},
   "source": [
    "# Playing"
   ]
  },
  {
   "cell_type": "markdown",
   "metadata": {},
   "source": [
    "Just DatabaseArray in napari"
   ]
  },
  {
   "cell_type": "code",
   "execution_count": null,
   "metadata": {},
   "outputs": [],
   "source": [
    "# viewer = napari.Viewer()\n",
    "# viewer.add_labels(segments,scale=scale)"
   ]
  },
  {
   "cell_type": "markdown",
   "metadata": {},
   "source": [
    "Todo:\n",
    "- add display showing the time\n",
    "- implement the actual rerendering of a new block\n",
    "- disable buttons when first/last block is shown \n",
    "- ~~put buttons next to each other~~"
   ]
  },
  {
   "cell_type": "code",
   "execution_count": null,
   "metadata": {},
   "outputs": [],
   "source": []
  }
 ],
 "metadata": {
  "kernelspec": {
   "display_name": "motile",
   "language": "python",
   "name": "python3"
  },
  "language_info": {
   "codemirror_mode": {
    "name": "ipython",
    "version": 3
   },
   "file_extension": ".py",
   "mimetype": "text/x-python",
   "name": "python",
   "nbconvert_exporter": "python",
   "pygments_lexer": "ipython3",
   "version": "3.10.16"
  }
 },
 "nbformat": 4,
 "nbformat_minor": 2
}
